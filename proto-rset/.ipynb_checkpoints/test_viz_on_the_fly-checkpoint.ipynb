{
 "cells": [
  {
   "cell_type": "code",
   "execution_count": 1,
   "id": "def68b61",
   "metadata": {},
   "outputs": [],
   "source": [
    "import sys\n",
    "sys.path.append(\"/usr/xtmp/zg78/proto_rset/\")\n",
    "sys.path.append(\"/usr/xtmp/zg78/proto_rset/rashomon_sets\")\n",
    "from protopnet.visualization import *\n",
    "import torch\n",
    "from protopnet.datasets import training_dataloaders\n",
    "from rashomon_sets.protorset_factory import ProtoRSetFactory\n",
    "import os\n",
    "from pathlib import Path"
   ]
  },
  {
   "cell_type": "code",
   "execution_count": 2,
   "id": "c3bbd1eb",
   "metadata": {},
   "outputs": [],
   "source": [
    "os.environ[\"CUB200_DIR\"] = \"/usr/xtmp/lam135/datasets/CUB_200_2011_2/\""
   ]
  },
  {
   "cell_type": "code",
   "execution_count": 3,
   "id": "ae75e286",
   "metadata": {},
   "outputs": [],
   "source": [
    "batch_sizes = {\"train\": 20, \"project\": 20, \"val\": 20}\n",
    "split_dataloaders = training_dataloaders(\"cub200\", batch_sizes=batch_sizes)\n",
    "\n",
    "train_loader = split_dataloaders.project_loader\n",
    "val_loader = split_dataloaders.val_loader"
   ]
  },
  {
   "cell_type": "code",
   "execution_count": 4,
   "id": "33190de0",
   "metadata": {},
   "outputs": [],
   "source": [
    "device = \"cuda\""
   ]
  },
  {
   "cell_type": "code",
   "execution_count": 5,
   "id": "296301b5",
   "metadata": {},
   "outputs": [],
   "source": [
    "# analysis_save_dir = Path(\"/usr/xtmp/zg78/proto_rset/rashomon_sets/rset_analysis\")\n",
    "# run_analyses(\n",
    "#     model=initial_protopnet,\n",
    "#     model_path=Path('/usr/xtmp/jcd97/proto-rset/wandb/test/artifacts/ps9w130l/18_project_0.8552.pth'),\n",
    "#     project_dataloader=train_loader,\n",
    "#     val_dataloader=val_loader,\n",
    "#     vis_save_loc=analysis_save_dir,\n",
    "#     analysis_type=\"render-prototypes\",\n",
    "#     output_dir=analysis_save_dir / \"analyses\",\n",
    "#     img_size=split_dataloaders.image_size,\n",
    "#     device=device,\n",
    "# )\n",
    "\n",
    "\n",
    "# with concurrent.futures.ThreadPoolExecutor() as executor:\n",
    "#     executor.submit(\n",
    "#         run_analyses,\n",
    "#         model=self.initial_protopnet,\n",
    "#         model_path=Path('/usr/xtmp/jcd97/proto-rset/wandb/test/artifacts/ps9w130l/18_project_0.8552.pth'),\n",
    "#         project_dataloader=train_loader,\n",
    "#         val_dataloader=val_loader,\n",
    "#         vis_save_loc=None, # will be created inside run_analysis\n",
    "#         analysis_type=\"render-prototypes\",\n",
    "#         output_dir=self.analysis_save_dir,\n",
    "#         img_size=split_dataloaders.image_size,\n",
    "#         device=device,\n",
    "#     )"
   ]
  },
  {
   "cell_type": "code",
   "execution_count": 6,
   "id": "321dda8a",
   "metadata": {},
   "outputs": [],
   "source": [
    "from protorset_factory import ProtoRSetFactory"
   ]
  },
  {
   "cell_type": "code",
   "execution_count": 7,
   "id": "aadb0750",
   "metadata": {
    "scrolled": false
   },
   "outputs": [
    {
     "name": "stderr",
     "output_type": "stream",
     "text": [
      "100%|██████████| 270/270 [00:24<00:00, 11.22it/s]\n",
      "100%|██████████| 30/30 [00:03<00:00,  9.02it/s]\n"
     ]
    },
    {
     "name": "stdout",
     "output_type": "stream",
     "text": [
      "Accuracy of model before training:  0.2746296296296296\n",
      "Epoch [10/10], Loss: 4.3273\n",
      "Performed SGD in 0.41222548484802246 seconds\n",
      "Accuracy of optimal model:  0.27666666666666667\n"
     ]
    },
    {
     "name": "stderr",
     "output_type": "stream",
     "text": [
      "/usr/project/xtmp/zg78/proto_rset/rashomon_sets/linear_rashomon_set.py:407: UserWarning: The use of `x.T` on tensors of dimension other than 2 to reverse their shape is deprecated and it will throw an error in a future release. Consider `x.mT` to transpose batches of matrices or `x.permute(*torch.arange(x.ndim - 1, -1, -1))` to reverse the dimensions of a tensor. (Triggered internally at ../aten/src/ATen/native/TensorShape.cpp:3277.)\n",
      "  a_for_quad = direction_to_step.T @ self.stretch_matrix @ direction_to_step\n"
     ]
    }
   ],
   "source": [
    "DEFAULT_RSET_ARGS = {\n",
    "    \"rashomon_bound_multiplier\": 1.05,\n",
    "    \"num_models\": 5,  # Right now, I'm randomly sampling models from the ellipsoid during fit\n",
    "    \"reg\": \"l1\",\n",
    "    \"lam\": 0.0001,\n",
    "    \"compute_hessian_batched\": False,  # Not batching for memory's sake\n",
    "    \"max_iter\": 10,  # The max number of iterations allowed when fitting the LR,\n",
    "    \"directly_compute_hessian\": True,\n",
    "    \"device\": torch.device(\"cuda\"),\n",
    "}\n",
    "\n",
    "rset_factory = ProtoRSetFactory(\n",
    "    split_dataloaders=split_dataloaders,\n",
    "    initial_protopnet_path=Path('/usr/xtmp/jcd97/proto-rset/wandb/test/artifacts/ps9w130l/18_project_0.8552.pth'),\n",
    "    rashomon_set_args=DEFAULT_RSET_ARGS,\n",
    "    device=\"cuda\",\n",
    "    run_complete_vislization_in_init=False\n",
    ")"
   ]
  },
  {
   "cell_type": "code",
   "execution_count": 8,
   "id": "85071058",
   "metadata": {},
   "outputs": [
    {
     "data": {
      "application/vnd.jupyter.widget-view+json": {
       "model_id": "065ddc61053e4e58b2f3f802fae1e10b",
       "version_major": 2,
       "version_minor": 0
      },
      "text/plain": [
       "  0%|          | 0/1 [00:00<?, ?it/s]"
      ]
     },
     "metadata": {},
     "output_type": "display_data"
    },
    {
     "data": {
      "text/plain": [
       "[PosixPath('/usr/xtmp/zg78/proto_rset/rashomon_sets/rset_analysis/vis_ps9w130l_18_project_0.8552.pth/local_analysis_saves/9d64a75d0786e6062181d21ffc4517ca9f0f66ea54e3f15cce44094805770318.png')]"
      ]
     },
     "execution_count": 8,
     "metadata": {},
     "output_type": "execute_result"
    }
   ],
   "source": [
    "rst = rset_factory.display_local_analysis(17)\n",
    "rst"
   ]
  },
  {
   "cell_type": "code",
   "execution_count": 9,
   "id": "36a8f910",
   "metadata": {},
   "outputs": [],
   "source": [
    "# rst = rset_factory.display_global_analysis_for_proto(13)\n",
    "# rst"
   ]
  },
  {
   "cell_type": "code",
   "execution_count": 10,
   "id": "8299b86a",
   "metadata": {},
   "outputs": [],
   "source": [
    "# rst = rset_factory.display_highest_coef_proto_in_best_model()\n",
    "# rst"
   ]
  },
  {
   "cell_type": "code",
   "execution_count": 11,
   "id": "3f0c891b",
   "metadata": {},
   "outputs": [],
   "source": [
    "# rst = rset_factory.display_proto_in_class(1)\n",
    "# rst"
   ]
  },
  {
   "cell_type": "code",
   "execution_count": 12,
   "id": "efc4ce89",
   "metadata": {},
   "outputs": [
    {
     "data": {
      "application/vnd.jupyter.widget-view+json": {
       "model_id": "853ff90a928c4d689a2b3213d4a55795",
       "version_major": 2,
       "version_minor": 0
      },
      "text/plain": [
       "  0%|          | 0/270 [00:00<?, ?it/s]"
      ]
     },
     "metadata": {},
     "output_type": "display_data"
    },
    {
     "name": "stderr",
     "output_type": "stream",
     "text": [
      "/usr/project/xtmp/zg78/proto_rset/protopnet/visualization.py:222: UserWarning: Hash of prototype sample does not match hash of visualization sample for tensor([ 47, 107,   1,   4,  56,  28,  14,  90, 157,  47, 238, 225, 137, 208,\n",
      "        216,  91,  62, 165, 208,  71, 201,  91,  92,  15, 126,  30, 231,  23,\n",
      "        153, 148, 185,  30], dtype=torch.uint8), prototype 5.\n",
      "  warnings.warn(\n",
      "/usr/project/xtmp/zg78/proto_rset/protopnet/visualization.py:222: UserWarning: Hash of prototype sample does not match hash of visualization sample for tensor([ 81, 196, 223, 157,  53,  26, 215, 178, 103,  41, 251, 100, 183,   1,\n",
      "         25,  72, 241,  84,  77, 197,  76, 104, 232, 130, 156, 159,  15,  31,\n",
      "        137,  12,  53, 211], dtype=torch.uint8), prototype 7.\n",
      "  warnings.warn(\n",
      "/usr/project/xtmp/zg78/proto_rset/protopnet/visualization.py:226: UserWarning: Will not report subsequent unmatching hashes.\n",
      "  warnings.warn(\"Will not report subsequent unmatching hashes.\")\n"
     ]
    },
    {
     "data": {
      "text/plain": [
       "[(PosixPath('/usr/xtmp/zg78/proto_rset/rashomon_sets/rset_analysis/vis_ps9w130l_18_project_0.8552.pth/prototypes/proto_5_overlayheatmap.png'),\n",
       "  PosixPath('/usr/xtmp/zg78/proto_rset/rashomon_sets/rset_analysis/vis_ps9w130l_18_project_0.8552.pth/prototypes/proto_5_original.png'),\n",
       "  PosixPath('/usr/xtmp/zg78/proto_rset/rashomon_sets/rset_analysis/vis_ps9w130l_18_project_0.8552.pth/prototypes/proto_5_heatmap.png'),\n",
       "  PosixPath('/usr/xtmp/zg78/proto_rset/rashomon_sets/rset_analysis/vis_ps9w130l_18_project_0.8552.pth/prototypes/proto_5_proto_bbox.png')),\n",
       " (PosixPath('/usr/xtmp/zg78/proto_rset/rashomon_sets/rset_analysis/vis_ps9w130l_18_project_0.8552.pth/prototypes/proto_7_overlayheatmap.png'),\n",
       "  PosixPath('/usr/xtmp/zg78/proto_rset/rashomon_sets/rset_analysis/vis_ps9w130l_18_project_0.8552.pth/prototypes/proto_7_original.png'),\n",
       "  PosixPath('/usr/xtmp/zg78/proto_rset/rashomon_sets/rset_analysis/vis_ps9w130l_18_project_0.8552.pth/prototypes/proto_7_heatmap.png'),\n",
       "  PosixPath('/usr/xtmp/zg78/proto_rset/rashomon_sets/rset_analysis/vis_ps9w130l_18_project_0.8552.pth/prototypes/proto_7_proto_bbox.png')),\n",
       " (PosixPath('/usr/xtmp/zg78/proto_rset/rashomon_sets/rset_analysis/vis_ps9w130l_18_project_0.8552.pth/prototypes/proto_9_overlayheatmap.png'),\n",
       "  PosixPath('/usr/xtmp/zg78/proto_rset/rashomon_sets/rset_analysis/vis_ps9w130l_18_project_0.8552.pth/prototypes/proto_9_original.png'),\n",
       "  PosixPath('/usr/xtmp/zg78/proto_rset/rashomon_sets/rset_analysis/vis_ps9w130l_18_project_0.8552.pth/prototypes/proto_9_heatmap.png'),\n",
       "  PosixPath('/usr/xtmp/zg78/proto_rset/rashomon_sets/rset_analysis/vis_ps9w130l_18_project_0.8552.pth/prototypes/proto_9_proto_bbox.png')),\n",
       " (PosixPath('/usr/xtmp/zg78/proto_rset/rashomon_sets/rset_analysis/vis_ps9w130l_18_project_0.8552.pth/prototypes/proto_13_overlayheatmap.png'),\n",
       "  PosixPath('/usr/xtmp/zg78/proto_rset/rashomon_sets/rset_analysis/vis_ps9w130l_18_project_0.8552.pth/prototypes/proto_13_original.png'),\n",
       "  PosixPath('/usr/xtmp/zg78/proto_rset/rashomon_sets/rset_analysis/vis_ps9w130l_18_project_0.8552.pth/prototypes/proto_13_heatmap.png'),\n",
       "  PosixPath('/usr/xtmp/zg78/proto_rset/rashomon_sets/rset_analysis/vis_ps9w130l_18_project_0.8552.pth/prototypes/proto_13_proto_bbox.png')),\n",
       " (PosixPath('/usr/xtmp/zg78/proto_rset/rashomon_sets/rset_analysis/vis_ps9w130l_18_project_0.8552.pth/prototypes/proto_14_overlayheatmap.png'),\n",
       "  PosixPath('/usr/xtmp/zg78/proto_rset/rashomon_sets/rset_analysis/vis_ps9w130l_18_project_0.8552.pth/prototypes/proto_14_original.png'),\n",
       "  PosixPath('/usr/xtmp/zg78/proto_rset/rashomon_sets/rset_analysis/vis_ps9w130l_18_project_0.8552.pth/prototypes/proto_14_heatmap.png'),\n",
       "  PosixPath('/usr/xtmp/zg78/proto_rset/rashomon_sets/rset_analysis/vis_ps9w130l_18_project_0.8552.pth/prototypes/proto_14_proto_bbox.png')),\n",
       " (PosixPath('/usr/xtmp/zg78/proto_rset/rashomon_sets/rset_analysis/vis_ps9w130l_18_project_0.8552.pth/prototypes/proto_17_overlayheatmap.png'),\n",
       "  PosixPath('/usr/xtmp/zg78/proto_rset/rashomon_sets/rset_analysis/vis_ps9w130l_18_project_0.8552.pth/prototypes/proto_17_original.png'),\n",
       "  PosixPath('/usr/xtmp/zg78/proto_rset/rashomon_sets/rset_analysis/vis_ps9w130l_18_project_0.8552.pth/prototypes/proto_17_heatmap.png'),\n",
       "  PosixPath('/usr/xtmp/zg78/proto_rset/rashomon_sets/rset_analysis/vis_ps9w130l_18_project_0.8552.pth/prototypes/proto_17_proto_bbox.png')),\n",
       " (PosixPath('/usr/xtmp/zg78/proto_rset/rashomon_sets/rset_analysis/vis_ps9w130l_18_project_0.8552.pth/prototypes/proto_18_overlayheatmap.png'),\n",
       "  PosixPath('/usr/xtmp/zg78/proto_rset/rashomon_sets/rset_analysis/vis_ps9w130l_18_project_0.8552.pth/prototypes/proto_18_original.png'),\n",
       "  PosixPath('/usr/xtmp/zg78/proto_rset/rashomon_sets/rset_analysis/vis_ps9w130l_18_project_0.8552.pth/prototypes/proto_18_heatmap.png'),\n",
       "  PosixPath('/usr/xtmp/zg78/proto_rset/rashomon_sets/rset_analysis/vis_ps9w130l_18_project_0.8552.pth/prototypes/proto_18_proto_bbox.png')),\n",
       " (PosixPath('/usr/xtmp/zg78/proto_rset/rashomon_sets/rset_analysis/vis_ps9w130l_18_project_0.8552.pth/prototypes/proto_23_overlayheatmap.png'),\n",
       "  PosixPath('/usr/xtmp/zg78/proto_rset/rashomon_sets/rset_analysis/vis_ps9w130l_18_project_0.8552.pth/prototypes/proto_23_original.png'),\n",
       "  PosixPath('/usr/xtmp/zg78/proto_rset/rashomon_sets/rset_analysis/vis_ps9w130l_18_project_0.8552.pth/prototypes/proto_23_heatmap.png'),\n",
       "  PosixPath('/usr/xtmp/zg78/proto_rset/rashomon_sets/rset_analysis/vis_ps9w130l_18_project_0.8552.pth/prototypes/proto_23_proto_bbox.png')),\n",
       " (PosixPath('/usr/xtmp/zg78/proto_rset/rashomon_sets/rset_analysis/vis_ps9w130l_18_project_0.8552.pth/prototypes/proto_25_overlayheatmap.png'),\n",
       "  PosixPath('/usr/xtmp/zg78/proto_rset/rashomon_sets/rset_analysis/vis_ps9w130l_18_project_0.8552.pth/prototypes/proto_25_original.png'),\n",
       "  PosixPath('/usr/xtmp/zg78/proto_rset/rashomon_sets/rset_analysis/vis_ps9w130l_18_project_0.8552.pth/prototypes/proto_25_heatmap.png'),\n",
       "  PosixPath('/usr/xtmp/zg78/proto_rset/rashomon_sets/rset_analysis/vis_ps9w130l_18_project_0.8552.pth/prototypes/proto_25_proto_bbox.png')),\n",
       " (PosixPath('/usr/xtmp/zg78/proto_rset/rashomon_sets/rset_analysis/vis_ps9w130l_18_project_0.8552.pth/prototypes/proto_24_overlayheatmap.png'),\n",
       "  PosixPath('/usr/xtmp/zg78/proto_rset/rashomon_sets/rset_analysis/vis_ps9w130l_18_project_0.8552.pth/prototypes/proto_24_original.png'),\n",
       "  PosixPath('/usr/xtmp/zg78/proto_rset/rashomon_sets/rset_analysis/vis_ps9w130l_18_project_0.8552.pth/prototypes/proto_24_heatmap.png'),\n",
       "  PosixPath('/usr/xtmp/zg78/proto_rset/rashomon_sets/rset_analysis/vis_ps9w130l_18_project_0.8552.pth/prototypes/proto_24_proto_bbox.png')),\n",
       " (PosixPath('/usr/xtmp/zg78/proto_rset/rashomon_sets/rset_analysis/vis_ps9w130l_18_project_0.8552.pth/prototypes/proto_33_overlayheatmap.png'),\n",
       "  PosixPath('/usr/xtmp/zg78/proto_rset/rashomon_sets/rset_analysis/vis_ps9w130l_18_project_0.8552.pth/prototypes/proto_33_original.png'),\n",
       "  PosixPath('/usr/xtmp/zg78/proto_rset/rashomon_sets/rset_analysis/vis_ps9w130l_18_project_0.8552.pth/prototypes/proto_33_heatmap.png'),\n",
       "  PosixPath('/usr/xtmp/zg78/proto_rset/rashomon_sets/rset_analysis/vis_ps9w130l_18_project_0.8552.pth/prototypes/proto_33_proto_bbox.png')),\n",
       " (PosixPath('/usr/xtmp/zg78/proto_rset/rashomon_sets/rset_analysis/vis_ps9w130l_18_project_0.8552.pth/prototypes/proto_45_overlayheatmap.png'),\n",
       "  PosixPath('/usr/xtmp/zg78/proto_rset/rashomon_sets/rset_analysis/vis_ps9w130l_18_project_0.8552.pth/prototypes/proto_45_original.png'),\n",
       "  PosixPath('/usr/xtmp/zg78/proto_rset/rashomon_sets/rset_analysis/vis_ps9w130l_18_project_0.8552.pth/prototypes/proto_45_heatmap.png'),\n",
       "  PosixPath('/usr/xtmp/zg78/proto_rset/rashomon_sets/rset_analysis/vis_ps9w130l_18_project_0.8552.pth/prototypes/proto_45_proto_bbox.png')),\n",
       " (PosixPath('/usr/xtmp/zg78/proto_rset/rashomon_sets/rset_analysis/vis_ps9w130l_18_project_0.8552.pth/prototypes/proto_62_overlayheatmap.png'),\n",
       "  PosixPath('/usr/xtmp/zg78/proto_rset/rashomon_sets/rset_analysis/vis_ps9w130l_18_project_0.8552.pth/prototypes/proto_62_original.png'),\n",
       "  PosixPath('/usr/xtmp/zg78/proto_rset/rashomon_sets/rset_analysis/vis_ps9w130l_18_project_0.8552.pth/prototypes/proto_62_heatmap.png'),\n",
       "  PosixPath('/usr/xtmp/zg78/proto_rset/rashomon_sets/rset_analysis/vis_ps9w130l_18_project_0.8552.pth/prototypes/proto_62_proto_bbox.png')),\n",
       " (PosixPath('/usr/xtmp/zg78/proto_rset/rashomon_sets/rset_analysis/vis_ps9w130l_18_project_0.8552.pth/prototypes/proto_66_overlayheatmap.png'),\n",
       "  PosixPath('/usr/xtmp/zg78/proto_rset/rashomon_sets/rset_analysis/vis_ps9w130l_18_project_0.8552.pth/prototypes/proto_66_original.png'),\n",
       "  PosixPath('/usr/xtmp/zg78/proto_rset/rashomon_sets/rset_analysis/vis_ps9w130l_18_project_0.8552.pth/prototypes/proto_66_heatmap.png'),\n",
       "  PosixPath('/usr/xtmp/zg78/proto_rset/rashomon_sets/rset_analysis/vis_ps9w130l_18_project_0.8552.pth/prototypes/proto_66_proto_bbox.png')),\n",
       " (PosixPath('/usr/xtmp/zg78/proto_rset/rashomon_sets/rset_analysis/vis_ps9w130l_18_project_0.8552.pth/prototypes/proto_65_overlayheatmap.png'),\n",
       "  PosixPath('/usr/xtmp/zg78/proto_rset/rashomon_sets/rset_analysis/vis_ps9w130l_18_project_0.8552.pth/prototypes/proto_65_original.png'),\n",
       "  PosixPath('/usr/xtmp/zg78/proto_rset/rashomon_sets/rset_analysis/vis_ps9w130l_18_project_0.8552.pth/prototypes/proto_65_heatmap.png'),\n",
       "  PosixPath('/usr/xtmp/zg78/proto_rset/rashomon_sets/rset_analysis/vis_ps9w130l_18_project_0.8552.pth/prototypes/proto_65_proto_bbox.png')),\n",
       " (PosixPath('/usr/xtmp/zg78/proto_rset/rashomon_sets/rset_analysis/vis_ps9w130l_18_project_0.8552.pth/prototypes/proto_81_overlayheatmap.png'),\n",
       "  PosixPath('/usr/xtmp/zg78/proto_rset/rashomon_sets/rset_analysis/vis_ps9w130l_18_project_0.8552.pth/prototypes/proto_81_original.png'),\n",
       "  PosixPath('/usr/xtmp/zg78/proto_rset/rashomon_sets/rset_analysis/vis_ps9w130l_18_project_0.8552.pth/prototypes/proto_81_heatmap.png'),\n",
       "  PosixPath('/usr/xtmp/zg78/proto_rset/rashomon_sets/rset_analysis/vis_ps9w130l_18_project_0.8552.pth/prototypes/proto_81_proto_bbox.png')),\n",
       " (PosixPath('/usr/xtmp/zg78/proto_rset/rashomon_sets/rset_analysis/vis_ps9w130l_18_project_0.8552.pth/prototypes/proto_105_overlayheatmap.png'),\n",
       "  PosixPath('/usr/xtmp/zg78/proto_rset/rashomon_sets/rset_analysis/vis_ps9w130l_18_project_0.8552.pth/prototypes/proto_105_original.png'),\n",
       "  PosixPath('/usr/xtmp/zg78/proto_rset/rashomon_sets/rset_analysis/vis_ps9w130l_18_project_0.8552.pth/prototypes/proto_105_heatmap.png'),\n",
       "  PosixPath('/usr/xtmp/zg78/proto_rset/rashomon_sets/rset_analysis/vis_ps9w130l_18_project_0.8552.pth/prototypes/proto_105_proto_bbox.png')),\n",
       " (PosixPath('/usr/xtmp/zg78/proto_rset/rashomon_sets/rset_analysis/vis_ps9w130l_18_project_0.8552.pth/prototypes/proto_110_overlayheatmap.png'),\n",
       "  PosixPath('/usr/xtmp/zg78/proto_rset/rashomon_sets/rset_analysis/vis_ps9w130l_18_project_0.8552.pth/prototypes/proto_110_original.png'),\n",
       "  PosixPath('/usr/xtmp/zg78/proto_rset/rashomon_sets/rset_analysis/vis_ps9w130l_18_project_0.8552.pth/prototypes/proto_110_heatmap.png'),\n",
       "  PosixPath('/usr/xtmp/zg78/proto_rset/rashomon_sets/rset_analysis/vis_ps9w130l_18_project_0.8552.pth/prototypes/proto_110_proto_bbox.png')),\n",
       " (PosixPath('/usr/xtmp/zg78/proto_rset/rashomon_sets/rset_analysis/vis_ps9w130l_18_project_0.8552.pth/prototypes/proto_138_overlayheatmap.png'),\n",
       "  PosixPath('/usr/xtmp/zg78/proto_rset/rashomon_sets/rset_analysis/vis_ps9w130l_18_project_0.8552.pth/prototypes/proto_138_original.png'),\n",
       "  PosixPath('/usr/xtmp/zg78/proto_rset/rashomon_sets/rset_analysis/vis_ps9w130l_18_project_0.8552.pth/prototypes/proto_138_heatmap.png'),\n",
       "  PosixPath('/usr/xtmp/zg78/proto_rset/rashomon_sets/rset_analysis/vis_ps9w130l_18_project_0.8552.pth/prototypes/proto_138_proto_bbox.png')),\n",
       " (PosixPath('/usr/xtmp/zg78/proto_rset/rashomon_sets/rset_analysis/vis_ps9w130l_18_project_0.8552.pth/prototypes/proto_140_overlayheatmap.png'),\n",
       "  PosixPath('/usr/xtmp/zg78/proto_rset/rashomon_sets/rset_analysis/vis_ps9w130l_18_project_0.8552.pth/prototypes/proto_140_original.png'),\n",
       "  PosixPath('/usr/xtmp/zg78/proto_rset/rashomon_sets/rset_analysis/vis_ps9w130l_18_project_0.8552.pth/prototypes/proto_140_heatmap.png'),\n",
       "  PosixPath('/usr/xtmp/zg78/proto_rset/rashomon_sets/rset_analysis/vis_ps9w130l_18_project_0.8552.pth/prototypes/proto_140_proto_bbox.png')),\n",
       " (PosixPath('/usr/xtmp/zg78/proto_rset/rashomon_sets/rset_analysis/vis_ps9w130l_18_project_0.8552.pth/prototypes/proto_146_overlayheatmap.png'),\n",
       "  PosixPath('/usr/xtmp/zg78/proto_rset/rashomon_sets/rset_analysis/vis_ps9w130l_18_project_0.8552.pth/prototypes/proto_146_original.png'),\n",
       "  PosixPath('/usr/xtmp/zg78/proto_rset/rashomon_sets/rset_analysis/vis_ps9w130l_18_project_0.8552.pth/prototypes/proto_146_heatmap.png'),\n",
       "  PosixPath('/usr/xtmp/zg78/proto_rset/rashomon_sets/rset_analysis/vis_ps9w130l_18_project_0.8552.pth/prototypes/proto_146_proto_bbox.png')),\n",
       " (PosixPath('/usr/xtmp/zg78/proto_rset/rashomon_sets/rset_analysis/vis_ps9w130l_18_project_0.8552.pth/prototypes/proto_171_overlayheatmap.png'),\n",
       "  PosixPath('/usr/xtmp/zg78/proto_rset/rashomon_sets/rset_analysis/vis_ps9w130l_18_project_0.8552.pth/prototypes/proto_171_original.png'),\n",
       "  PosixPath('/usr/xtmp/zg78/proto_rset/rashomon_sets/rset_analysis/vis_ps9w130l_18_project_0.8552.pth/prototypes/proto_171_heatmap.png'),\n",
       "  PosixPath('/usr/xtmp/zg78/proto_rset/rashomon_sets/rset_analysis/vis_ps9w130l_18_project_0.8552.pth/prototypes/proto_171_proto_bbox.png')),\n",
       " (PosixPath('/usr/xtmp/zg78/proto_rset/rashomon_sets/rset_analysis/vis_ps9w130l_18_project_0.8552.pth/prototypes/proto_173_overlayheatmap.png'),\n",
       "  PosixPath('/usr/xtmp/zg78/proto_rset/rashomon_sets/rset_analysis/vis_ps9w130l_18_project_0.8552.pth/prototypes/proto_173_original.png'),\n",
       "  PosixPath('/usr/xtmp/zg78/proto_rset/rashomon_sets/rset_analysis/vis_ps9w130l_18_project_0.8552.pth/prototypes/proto_173_heatmap.png'),\n",
       "  PosixPath('/usr/xtmp/zg78/proto_rset/rashomon_sets/rset_analysis/vis_ps9w130l_18_project_0.8552.pth/prototypes/proto_173_proto_bbox.png')),\n",
       " (PosixPath('/usr/xtmp/zg78/proto_rset/rashomon_sets/rset_analysis/vis_ps9w130l_18_project_0.8552.pth/prototypes/proto_172_overlayheatmap.png'),\n",
       "  PosixPath('/usr/xtmp/zg78/proto_rset/rashomon_sets/rset_analysis/vis_ps9w130l_18_project_0.8552.pth/prototypes/proto_172_original.png'),\n",
       "  PosixPath('/usr/xtmp/zg78/proto_rset/rashomon_sets/rset_analysis/vis_ps9w130l_18_project_0.8552.pth/prototypes/proto_172_heatmap.png'),\n",
       "  PosixPath('/usr/xtmp/zg78/proto_rset/rashomon_sets/rset_analysis/vis_ps9w130l_18_project_0.8552.pth/prototypes/proto_172_proto_bbox.png')),\n",
       " (PosixPath('/usr/xtmp/zg78/proto_rset/rashomon_sets/rset_analysis/vis_ps9w130l_18_project_0.8552.pth/prototypes/proto_201_overlayheatmap.png'),\n",
       "  PosixPath('/usr/xtmp/zg78/proto_rset/rashomon_sets/rset_analysis/vis_ps9w130l_18_project_0.8552.pth/prototypes/proto_201_original.png'),\n",
       "  PosixPath('/usr/xtmp/zg78/proto_rset/rashomon_sets/rset_analysis/vis_ps9w130l_18_project_0.8552.pth/prototypes/proto_201_heatmap.png'),\n",
       "  PosixPath('/usr/xtmp/zg78/proto_rset/rashomon_sets/rset_analysis/vis_ps9w130l_18_project_0.8552.pth/prototypes/proto_201_proto_bbox.png')),\n",
       " (PosixPath('/usr/xtmp/zg78/proto_rset/rashomon_sets/rset_analysis/vis_ps9w130l_18_project_0.8552.pth/prototypes/proto_206_overlayheatmap.png'),\n",
       "  PosixPath('/usr/xtmp/zg78/proto_rset/rashomon_sets/rset_analysis/vis_ps9w130l_18_project_0.8552.pth/prototypes/proto_206_original.png'),\n",
       "  PosixPath('/usr/xtmp/zg78/proto_rset/rashomon_sets/rset_analysis/vis_ps9w130l_18_project_0.8552.pth/prototypes/proto_206_heatmap.png'),\n",
       "  PosixPath('/usr/xtmp/zg78/proto_rset/rashomon_sets/rset_analysis/vis_ps9w130l_18_project_0.8552.pth/prototypes/proto_206_proto_bbox.png')),\n",
       " (PosixPath('/usr/xtmp/zg78/proto_rset/rashomon_sets/rset_analysis/vis_ps9w130l_18_project_0.8552.pth/prototypes/proto_205_overlayheatmap.png'),\n",
       "  PosixPath('/usr/xtmp/zg78/proto_rset/rashomon_sets/rset_analysis/vis_ps9w130l_18_project_0.8552.pth/prototypes/proto_205_original.png'),\n",
       "  PosixPath('/usr/xtmp/zg78/proto_rset/rashomon_sets/rset_analysis/vis_ps9w130l_18_project_0.8552.pth/prototypes/proto_205_heatmap.png'),\n",
       "  PosixPath('/usr/xtmp/zg78/proto_rset/rashomon_sets/rset_analysis/vis_ps9w130l_18_project_0.8552.pth/prototypes/proto_205_proto_bbox.png')),\n",
       " (PosixPath('/usr/xtmp/zg78/proto_rset/rashomon_sets/rset_analysis/vis_ps9w130l_18_project_0.8552.pth/prototypes/proto_246_overlayheatmap.png'),\n",
       "  PosixPath('/usr/xtmp/zg78/proto_rset/rashomon_sets/rset_analysis/vis_ps9w130l_18_project_0.8552.pth/prototypes/proto_246_original.png'),\n",
       "  PosixPath('/usr/xtmp/zg78/proto_rset/rashomon_sets/rset_analysis/vis_ps9w130l_18_project_0.8552.pth/prototypes/proto_246_heatmap.png'),\n",
       "  PosixPath('/usr/xtmp/zg78/proto_rset/rashomon_sets/rset_analysis/vis_ps9w130l_18_project_0.8552.pth/prototypes/proto_246_proto_bbox.png')),\n",
       " (PosixPath('/usr/xtmp/zg78/proto_rset/rashomon_sets/rset_analysis/vis_ps9w130l_18_project_0.8552.pth/prototypes/proto_247_overlayheatmap.png'),\n",
       "  PosixPath('/usr/xtmp/zg78/proto_rset/rashomon_sets/rset_analysis/vis_ps9w130l_18_project_0.8552.pth/prototypes/proto_247_original.png'),\n",
       "  PosixPath('/usr/xtmp/zg78/proto_rset/rashomon_sets/rset_analysis/vis_ps9w130l_18_project_0.8552.pth/prototypes/proto_247_heatmap.png'),\n",
       "  PosixPath('/usr/xtmp/zg78/proto_rset/rashomon_sets/rset_analysis/vis_ps9w130l_18_project_0.8552.pth/prototypes/proto_247_proto_bbox.png')),\n",
       " (PosixPath('/usr/xtmp/zg78/proto_rset/rashomon_sets/rset_analysis/vis_ps9w130l_18_project_0.8552.pth/prototypes/proto_284_overlayheatmap.png'),\n",
       "  PosixPath('/usr/xtmp/zg78/proto_rset/rashomon_sets/rset_analysis/vis_ps9w130l_18_project_0.8552.pth/prototypes/proto_284_original.png'),\n",
       "  PosixPath('/usr/xtmp/zg78/proto_rset/rashomon_sets/rset_analysis/vis_ps9w130l_18_project_0.8552.pth/prototypes/proto_284_heatmap.png'),\n",
       "  PosixPath('/usr/xtmp/zg78/proto_rset/rashomon_sets/rset_analysis/vis_ps9w130l_18_project_0.8552.pth/prototypes/proto_284_proto_bbox.png')),\n",
       " (PosixPath('/usr/xtmp/zg78/proto_rset/rashomon_sets/rset_analysis/vis_ps9w130l_18_project_0.8552.pth/prototypes/proto_285_overlayheatmap.png'),\n",
       "  PosixPath('/usr/xtmp/zg78/proto_rset/rashomon_sets/rset_analysis/vis_ps9w130l_18_project_0.8552.pth/prototypes/proto_285_original.png'),\n",
       "  PosixPath('/usr/xtmp/zg78/proto_rset/rashomon_sets/rset_analysis/vis_ps9w130l_18_project_0.8552.pth/prototypes/proto_285_heatmap.png'),\n",
       "  PosixPath('/usr/xtmp/zg78/proto_rset/rashomon_sets/rset_analysis/vis_ps9w130l_18_project_0.8552.pth/prototypes/proto_285_proto_bbox.png')),\n",
       " (PosixPath('/usr/xtmp/zg78/proto_rset/rashomon_sets/rset_analysis/vis_ps9w130l_18_project_0.8552.pth/prototypes/proto_293_overlayheatmap.png'),\n",
       "  PosixPath('/usr/xtmp/zg78/proto_rset/rashomon_sets/rset_analysis/vis_ps9w130l_18_project_0.8552.pth/prototypes/proto_293_original.png'),\n",
       "  PosixPath('/usr/xtmp/zg78/proto_rset/rashomon_sets/rset_analysis/vis_ps9w130l_18_project_0.8552.pth/prototypes/proto_293_heatmap.png'),\n",
       "  PosixPath('/usr/xtmp/zg78/proto_rset/rashomon_sets/rset_analysis/vis_ps9w130l_18_project_0.8552.pth/prototypes/proto_293_proto_bbox.png')),\n",
       " (PosixPath('/usr/xtmp/zg78/proto_rset/rashomon_sets/rset_analysis/vis_ps9w130l_18_project_0.8552.pth/prototypes/proto_295_overlayheatmap.png'),\n",
       "  PosixPath('/usr/xtmp/zg78/proto_rset/rashomon_sets/rset_analysis/vis_ps9w130l_18_project_0.8552.pth/prototypes/proto_295_original.png'),\n",
       "  PosixPath('/usr/xtmp/zg78/proto_rset/rashomon_sets/rset_analysis/vis_ps9w130l_18_project_0.8552.pth/prototypes/proto_295_heatmap.png'),\n",
       "  PosixPath('/usr/xtmp/zg78/proto_rset/rashomon_sets/rset_analysis/vis_ps9w130l_18_project_0.8552.pth/prototypes/proto_295_proto_bbox.png')),\n",
       " (PosixPath('/usr/xtmp/zg78/proto_rset/rashomon_sets/rset_analysis/vis_ps9w130l_18_project_0.8552.pth/prototypes/proto_294_overlayheatmap.png'),\n",
       "  PosixPath('/usr/xtmp/zg78/proto_rset/rashomon_sets/rset_analysis/vis_ps9w130l_18_project_0.8552.pth/prototypes/proto_294_original.png'),\n",
       "  PosixPath('/usr/xtmp/zg78/proto_rset/rashomon_sets/rset_analysis/vis_ps9w130l_18_project_0.8552.pth/prototypes/proto_294_heatmap.png'),\n",
       "  PosixPath('/usr/xtmp/zg78/proto_rset/rashomon_sets/rset_analysis/vis_ps9w130l_18_project_0.8552.pth/prototypes/proto_294_proto_bbox.png')),\n",
       " (PosixPath('/usr/xtmp/zg78/proto_rset/rashomon_sets/rset_analysis/vis_ps9w130l_18_project_0.8552.pth/prototypes/proto_320_overlayheatmap.png'),\n",
       "  PosixPath('/usr/xtmp/zg78/proto_rset/rashomon_sets/rset_analysis/vis_ps9w130l_18_project_0.8552.pth/prototypes/proto_320_original.png'),\n",
       "  PosixPath('/usr/xtmp/zg78/proto_rset/rashomon_sets/rset_analysis/vis_ps9w130l_18_project_0.8552.pth/prototypes/proto_320_heatmap.png'),\n",
       "  PosixPath('/usr/xtmp/zg78/proto_rset/rashomon_sets/rset_analysis/vis_ps9w130l_18_project_0.8552.pth/prototypes/proto_320_proto_bbox.png')),\n",
       " (PosixPath('/usr/xtmp/zg78/proto_rset/rashomon_sets/rset_analysis/vis_ps9w130l_18_project_0.8552.pth/prototypes/proto_319_overlayheatmap.png'),\n",
       "  PosixPath('/usr/xtmp/zg78/proto_rset/rashomon_sets/rset_analysis/vis_ps9w130l_18_project_0.8552.pth/prototypes/proto_319_original.png'),\n",
       "  PosixPath('/usr/xtmp/zg78/proto_rset/rashomon_sets/rset_analysis/vis_ps9w130l_18_project_0.8552.pth/prototypes/proto_319_heatmap.png'),\n",
       "  PosixPath('/usr/xtmp/zg78/proto_rset/rashomon_sets/rset_analysis/vis_ps9w130l_18_project_0.8552.pth/prototypes/proto_319_proto_bbox.png')),\n",
       " (PosixPath('/usr/xtmp/zg78/proto_rset/rashomon_sets/rset_analysis/vis_ps9w130l_18_project_0.8552.pth/prototypes/proto_336_overlayheatmap.png'),\n",
       "  PosixPath('/usr/xtmp/zg78/proto_rset/rashomon_sets/rset_analysis/vis_ps9w130l_18_project_0.8552.pth/prototypes/proto_336_original.png'),\n",
       "  PosixPath('/usr/xtmp/zg78/proto_rset/rashomon_sets/rset_analysis/vis_ps9w130l_18_project_0.8552.pth/prototypes/proto_336_heatmap.png'),\n",
       "  PosixPath('/usr/xtmp/zg78/proto_rset/rashomon_sets/rset_analysis/vis_ps9w130l_18_project_0.8552.pth/prototypes/proto_336_proto_bbox.png')),\n",
       " (PosixPath('/usr/xtmp/zg78/proto_rset/rashomon_sets/rset_analysis/vis_ps9w130l_18_project_0.8552.pth/prototypes/proto_339_overlayheatmap.png'),\n",
       "  PosixPath('/usr/xtmp/zg78/proto_rset/rashomon_sets/rset_analysis/vis_ps9w130l_18_project_0.8552.pth/prototypes/proto_339_original.png'),\n",
       "  PosixPath('/usr/xtmp/zg78/proto_rset/rashomon_sets/rset_analysis/vis_ps9w130l_18_project_0.8552.pth/prototypes/proto_339_heatmap.png'),\n",
       "  PosixPath('/usr/xtmp/zg78/proto_rset/rashomon_sets/rset_analysis/vis_ps9w130l_18_project_0.8552.pth/prototypes/proto_339_proto_bbox.png')),\n",
       " (PosixPath('/usr/xtmp/zg78/proto_rset/rashomon_sets/rset_analysis/vis_ps9w130l_18_project_0.8552.pth/prototypes/proto_340_overlayheatmap.png'),\n",
       "  PosixPath('/usr/xtmp/zg78/proto_rset/rashomon_sets/rset_analysis/vis_ps9w130l_18_project_0.8552.pth/prototypes/proto_340_original.png'),\n",
       "  PosixPath('/usr/xtmp/zg78/proto_rset/rashomon_sets/rset_analysis/vis_ps9w130l_18_project_0.8552.pth/prototypes/proto_340_heatmap.png'),\n",
       "  PosixPath('/usr/xtmp/zg78/proto_rset/rashomon_sets/rset_analysis/vis_ps9w130l_18_project_0.8552.pth/prototypes/proto_340_proto_bbox.png')),\n",
       " (PosixPath('/usr/xtmp/zg78/proto_rset/rashomon_sets/rset_analysis/vis_ps9w130l_18_project_0.8552.pth/prototypes/proto_346_overlayheatmap.png'),\n",
       "  PosixPath('/usr/xtmp/zg78/proto_rset/rashomon_sets/rset_analysis/vis_ps9w130l_18_project_0.8552.pth/prototypes/proto_346_original.png'),\n",
       "  PosixPath('/usr/xtmp/zg78/proto_rset/rashomon_sets/rset_analysis/vis_ps9w130l_18_project_0.8552.pth/prototypes/proto_346_heatmap.png'),\n",
       "  PosixPath('/usr/xtmp/zg78/proto_rset/rashomon_sets/rset_analysis/vis_ps9w130l_18_project_0.8552.pth/prototypes/proto_346_proto_bbox.png')),\n",
       " (PosixPath('/usr/xtmp/zg78/proto_rset/rashomon_sets/rset_analysis/vis_ps9w130l_18_project_0.8552.pth/prototypes/proto_349_overlayheatmap.png'),\n",
       "  PosixPath('/usr/xtmp/zg78/proto_rset/rashomon_sets/rset_analysis/vis_ps9w130l_18_project_0.8552.pth/prototypes/proto_349_original.png'),\n",
       "  PosixPath('/usr/xtmp/zg78/proto_rset/rashomon_sets/rset_analysis/vis_ps9w130l_18_project_0.8552.pth/prototypes/proto_349_heatmap.png'),\n",
       "  PosixPath('/usr/xtmp/zg78/proto_rset/rashomon_sets/rset_analysis/vis_ps9w130l_18_project_0.8552.pth/prototypes/proto_349_proto_bbox.png')),\n",
       " (PosixPath('/usr/xtmp/zg78/proto_rset/rashomon_sets/rset_analysis/vis_ps9w130l_18_project_0.8552.pth/prototypes/proto_350_overlayheatmap.png'),\n",
       "  PosixPath('/usr/xtmp/zg78/proto_rset/rashomon_sets/rset_analysis/vis_ps9w130l_18_project_0.8552.pth/prototypes/proto_350_original.png'),\n",
       "  PosixPath('/usr/xtmp/zg78/proto_rset/rashomon_sets/rset_analysis/vis_ps9w130l_18_project_0.8552.pth/prototypes/proto_350_heatmap.png'),\n",
       "  PosixPath('/usr/xtmp/zg78/proto_rset/rashomon_sets/rset_analysis/vis_ps9w130l_18_project_0.8552.pth/prototypes/proto_350_proto_bbox.png')),\n",
       " (PosixPath('/usr/xtmp/zg78/proto_rset/rashomon_sets/rset_analysis/vis_ps9w130l_18_project_0.8552.pth/prototypes/proto_354_overlayheatmap.png'),\n",
       "  PosixPath('/usr/xtmp/zg78/proto_rset/rashomon_sets/rset_analysis/vis_ps9w130l_18_project_0.8552.pth/prototypes/proto_354_original.png'),\n",
       "  PosixPath('/usr/xtmp/zg78/proto_rset/rashomon_sets/rset_analysis/vis_ps9w130l_18_project_0.8552.pth/prototypes/proto_354_heatmap.png'),\n",
       "  PosixPath('/usr/xtmp/zg78/proto_rset/rashomon_sets/rset_analysis/vis_ps9w130l_18_project_0.8552.pth/prototypes/proto_354_proto_bbox.png')),\n",
       " (PosixPath('/usr/xtmp/zg78/proto_rset/rashomon_sets/rset_analysis/vis_ps9w130l_18_project_0.8552.pth/prototypes/proto_369_overlayheatmap.png'),\n",
       "  PosixPath('/usr/xtmp/zg78/proto_rset/rashomon_sets/rset_analysis/vis_ps9w130l_18_project_0.8552.pth/prototypes/proto_369_original.png'),\n",
       "  PosixPath('/usr/xtmp/zg78/proto_rset/rashomon_sets/rset_analysis/vis_ps9w130l_18_project_0.8552.pth/prototypes/proto_369_heatmap.png'),\n",
       "  PosixPath('/usr/xtmp/zg78/proto_rset/rashomon_sets/rset_analysis/vis_ps9w130l_18_project_0.8552.pth/prototypes/proto_369_proto_bbox.png')),\n",
       " (PosixPath('/usr/xtmp/zg78/proto_rset/rashomon_sets/rset_analysis/vis_ps9w130l_18_project_0.8552.pth/prototypes/proto_368_overlayheatmap.png'),\n",
       "  PosixPath('/usr/xtmp/zg78/proto_rset/rashomon_sets/rset_analysis/vis_ps9w130l_18_project_0.8552.pth/prototypes/proto_368_original.png'),\n",
       "  PosixPath('/usr/xtmp/zg78/proto_rset/rashomon_sets/rset_analysis/vis_ps9w130l_18_project_0.8552.pth/prototypes/proto_368_heatmap.png'),\n",
       "  PosixPath('/usr/xtmp/zg78/proto_rset/rashomon_sets/rset_analysis/vis_ps9w130l_18_project_0.8552.pth/prototypes/proto_368_proto_bbox.png')),\n",
       " (PosixPath('/usr/xtmp/zg78/proto_rset/rashomon_sets/rset_analysis/vis_ps9w130l_18_project_0.8552.pth/prototypes/proto_373_overlayheatmap.png'),\n",
       "  PosixPath('/usr/xtmp/zg78/proto_rset/rashomon_sets/rset_analysis/vis_ps9w130l_18_project_0.8552.pth/prototypes/proto_373_original.png'),\n",
       "  PosixPath('/usr/xtmp/zg78/proto_rset/rashomon_sets/rset_analysis/vis_ps9w130l_18_project_0.8552.pth/prototypes/proto_373_heatmap.png'),\n",
       "  PosixPath('/usr/xtmp/zg78/proto_rset/rashomon_sets/rset_analysis/vis_ps9w130l_18_project_0.8552.pth/prototypes/proto_373_proto_bbox.png')),\n",
       " (PosixPath('/usr/xtmp/zg78/proto_rset/rashomon_sets/rset_analysis/vis_ps9w130l_18_project_0.8552.pth/prototypes/proto_372_overlayheatmap.png'),\n",
       "  PosixPath('/usr/xtmp/zg78/proto_rset/rashomon_sets/rset_analysis/vis_ps9w130l_18_project_0.8552.pth/prototypes/proto_372_original.png'),\n",
       "  PosixPath('/usr/xtmp/zg78/proto_rset/rashomon_sets/rset_analysis/vis_ps9w130l_18_project_0.8552.pth/prototypes/proto_372_heatmap.png'),\n",
       "  PosixPath('/usr/xtmp/zg78/proto_rset/rashomon_sets/rset_analysis/vis_ps9w130l_18_project_0.8552.pth/prototypes/proto_372_proto_bbox.png')),\n",
       " (PosixPath('/usr/xtmp/zg78/proto_rset/rashomon_sets/rset_analysis/vis_ps9w130l_18_project_0.8552.pth/prototypes/proto_375_overlayheatmap.png'),\n",
       "  PosixPath('/usr/xtmp/zg78/proto_rset/rashomon_sets/rset_analysis/vis_ps9w130l_18_project_0.8552.pth/prototypes/proto_375_original.png'),\n",
       "  PosixPath('/usr/xtmp/zg78/proto_rset/rashomon_sets/rset_analysis/vis_ps9w130l_18_project_0.8552.pth/prototypes/proto_375_heatmap.png'),\n",
       "  PosixPath('/usr/xtmp/zg78/proto_rset/rashomon_sets/rset_analysis/vis_ps9w130l_18_project_0.8552.pth/prototypes/proto_375_proto_bbox.png')),\n",
       " (PosixPath('/usr/xtmp/zg78/proto_rset/rashomon_sets/rset_analysis/vis_ps9w130l_18_project_0.8552.pth/prototypes/proto_374_overlayheatmap.png'),\n",
       "  PosixPath('/usr/xtmp/zg78/proto_rset/rashomon_sets/rset_analysis/vis_ps9w130l_18_project_0.8552.pth/prototypes/proto_374_original.png'),\n",
       "  PosixPath('/usr/xtmp/zg78/proto_rset/rashomon_sets/rset_analysis/vis_ps9w130l_18_project_0.8552.pth/prototypes/proto_374_heatmap.png'),\n",
       "  PosixPath('/usr/xtmp/zg78/proto_rset/rashomon_sets/rset_analysis/vis_ps9w130l_18_project_0.8552.pth/prototypes/proto_374_proto_bbox.png')),\n",
       " (PosixPath('/usr/xtmp/zg78/proto_rset/rashomon_sets/rset_analysis/vis_ps9w130l_18_project_0.8552.pth/prototypes/proto_385_overlayheatmap.png'),\n",
       "  PosixPath('/usr/xtmp/zg78/proto_rset/rashomon_sets/rset_analysis/vis_ps9w130l_18_project_0.8552.pth/prototypes/proto_385_original.png'),\n",
       "  PosixPath('/usr/xtmp/zg78/proto_rset/rashomon_sets/rset_analysis/vis_ps9w130l_18_project_0.8552.pth/prototypes/proto_385_heatmap.png'),\n",
       "  PosixPath('/usr/xtmp/zg78/proto_rset/rashomon_sets/rset_analysis/vis_ps9w130l_18_project_0.8552.pth/prototypes/proto_385_proto_bbox.png')),\n",
       " (PosixPath('/usr/xtmp/zg78/proto_rset/rashomon_sets/rset_analysis/vis_ps9w130l_18_project_0.8552.pth/prototypes/proto_384_overlayheatmap.png'),\n",
       "  PosixPath('/usr/xtmp/zg78/proto_rset/rashomon_sets/rset_analysis/vis_ps9w130l_18_project_0.8552.pth/prototypes/proto_384_original.png'),\n",
       "  PosixPath('/usr/xtmp/zg78/proto_rset/rashomon_sets/rset_analysis/vis_ps9w130l_18_project_0.8552.pth/prototypes/proto_384_heatmap.png'),\n",
       "  PosixPath('/usr/xtmp/zg78/proto_rset/rashomon_sets/rset_analysis/vis_ps9w130l_18_project_0.8552.pth/prototypes/proto_384_proto_bbox.png')),\n",
       " (PosixPath('/usr/xtmp/zg78/proto_rset/rashomon_sets/rset_analysis/vis_ps9w130l_18_project_0.8552.pth/prototypes/proto_389_overlayheatmap.png'),\n",
       "  PosixPath('/usr/xtmp/zg78/proto_rset/rashomon_sets/rset_analysis/vis_ps9w130l_18_project_0.8552.pth/prototypes/proto_389_original.png'),\n",
       "  PosixPath('/usr/xtmp/zg78/proto_rset/rashomon_sets/rset_analysis/vis_ps9w130l_18_project_0.8552.pth/prototypes/proto_389_heatmap.png'),\n",
       "  PosixPath('/usr/xtmp/zg78/proto_rset/rashomon_sets/rset_analysis/vis_ps9w130l_18_project_0.8552.pth/prototypes/proto_389_proto_bbox.png')),\n",
       " (PosixPath('/usr/xtmp/zg78/proto_rset/rashomon_sets/rset_analysis/vis_ps9w130l_18_project_0.8552.pth/prototypes/proto_390_overlayheatmap.png'),\n",
       "  PosixPath('/usr/xtmp/zg78/proto_rset/rashomon_sets/rset_analysis/vis_ps9w130l_18_project_0.8552.pth/prototypes/proto_390_original.png'),\n",
       "  PosixPath('/usr/xtmp/zg78/proto_rset/rashomon_sets/rset_analysis/vis_ps9w130l_18_project_0.8552.pth/prototypes/proto_390_heatmap.png'),\n",
       "  PosixPath('/usr/xtmp/zg78/proto_rset/rashomon_sets/rset_analysis/vis_ps9w130l_18_project_0.8552.pth/prototypes/proto_390_proto_bbox.png')),\n",
       " (PosixPath('/usr/xtmp/zg78/proto_rset/rashomon_sets/rset_analysis/vis_ps9w130l_18_project_0.8552.pth/prototypes/proto_391_overlayheatmap.png'),\n",
       "  PosixPath('/usr/xtmp/zg78/proto_rset/rashomon_sets/rset_analysis/vis_ps9w130l_18_project_0.8552.pth/prototypes/proto_391_original.png'),\n",
       "  PosixPath('/usr/xtmp/zg78/proto_rset/rashomon_sets/rset_analysis/vis_ps9w130l_18_project_0.8552.pth/prototypes/proto_391_heatmap.png'),\n",
       "  PosixPath('/usr/xtmp/zg78/proto_rset/rashomon_sets/rset_analysis/vis_ps9w130l_18_project_0.8552.pth/prototypes/proto_391_proto_bbox.png')),\n",
       " (PosixPath('/usr/xtmp/zg78/proto_rset/rashomon_sets/rset_analysis/vis_ps9w130l_18_project_0.8552.pth/prototypes/proto_392_overlayheatmap.png'),\n",
       "  PosixPath('/usr/xtmp/zg78/proto_rset/rashomon_sets/rset_analysis/vis_ps9w130l_18_project_0.8552.pth/prototypes/proto_392_original.png'),\n",
       "  PosixPath('/usr/xtmp/zg78/proto_rset/rashomon_sets/rset_analysis/vis_ps9w130l_18_project_0.8552.pth/prototypes/proto_392_heatmap.png'),\n",
       "  PosixPath('/usr/xtmp/zg78/proto_rset/rashomon_sets/rset_analysis/vis_ps9w130l_18_project_0.8552.pth/prototypes/proto_392_proto_bbox.png')),\n",
       " (PosixPath('/usr/xtmp/zg78/proto_rset/rashomon_sets/rset_analysis/vis_ps9w130l_18_project_0.8552.pth/prototypes/proto_397_overlayheatmap.png'),\n",
       "  PosixPath('/usr/xtmp/zg78/proto_rset/rashomon_sets/rset_analysis/vis_ps9w130l_18_project_0.8552.pth/prototypes/proto_397_original.png'),\n",
       "  PosixPath('/usr/xtmp/zg78/proto_rset/rashomon_sets/rset_analysis/vis_ps9w130l_18_project_0.8552.pth/prototypes/proto_397_heatmap.png'),\n",
       "  PosixPath('/usr/xtmp/zg78/proto_rset/rashomon_sets/rset_analysis/vis_ps9w130l_18_project_0.8552.pth/prototypes/proto_397_proto_bbox.png')),\n",
       " (PosixPath('/usr/xtmp/zg78/proto_rset/rashomon_sets/rset_analysis/vis_ps9w130l_18_project_0.8552.pth/prototypes/proto_398_overlayheatmap.png'),\n",
       "  PosixPath('/usr/xtmp/zg78/proto_rset/rashomon_sets/rset_analysis/vis_ps9w130l_18_project_0.8552.pth/prototypes/proto_398_original.png'),\n",
       "  PosixPath('/usr/xtmp/zg78/proto_rset/rashomon_sets/rset_analysis/vis_ps9w130l_18_project_0.8552.pth/prototypes/proto_398_heatmap.png'),\n",
       "  PosixPath('/usr/xtmp/zg78/proto_rset/rashomon_sets/rset_analysis/vis_ps9w130l_18_project_0.8552.pth/prototypes/proto_398_proto_bbox.png')),\n",
       " (PosixPath('/usr/xtmp/zg78/proto_rset/rashomon_sets/rset_analysis/vis_ps9w130l_18_project_0.8552.pth/prototypes/proto_413_overlayheatmap.png'),\n",
       "  PosixPath('/usr/xtmp/zg78/proto_rset/rashomon_sets/rset_analysis/vis_ps9w130l_18_project_0.8552.pth/prototypes/proto_413_original.png'),\n",
       "  PosixPath('/usr/xtmp/zg78/proto_rset/rashomon_sets/rset_analysis/vis_ps9w130l_18_project_0.8552.pth/prototypes/proto_413_heatmap.png'),\n",
       "  PosixPath('/usr/xtmp/zg78/proto_rset/rashomon_sets/rset_analysis/vis_ps9w130l_18_project_0.8552.pth/prototypes/proto_413_proto_bbox.png')),\n",
       " (PosixPath('/usr/xtmp/zg78/proto_rset/rashomon_sets/rset_analysis/vis_ps9w130l_18_project_0.8552.pth/prototypes/proto_416_overlayheatmap.png'),\n",
       "  PosixPath('/usr/xtmp/zg78/proto_rset/rashomon_sets/rset_analysis/vis_ps9w130l_18_project_0.8552.pth/prototypes/proto_416_original.png'),\n",
       "  PosixPath('/usr/xtmp/zg78/proto_rset/rashomon_sets/rset_analysis/vis_ps9w130l_18_project_0.8552.pth/prototypes/proto_416_heatmap.png'),\n",
       "  PosixPath('/usr/xtmp/zg78/proto_rset/rashomon_sets/rset_analysis/vis_ps9w130l_18_project_0.8552.pth/prototypes/proto_416_proto_bbox.png'))]"
      ]
     },
     "execution_count": 12,
     "metadata": {},
     "output_type": "execute_result"
    }
   ],
   "source": [
    "rst = rset_factory.display_proto_based_on_coef(mode='>_threshold', threshold=1.003)\n",
    "rst"
   ]
  },
  {
   "cell_type": "code",
   "execution_count": 13,
   "id": "ad1f7374",
   "metadata": {},
   "outputs": [
    {
     "data": {
      "application/vnd.jupyter.widget-view+json": {
       "model_id": "f838c06201df412a9d49c16b5d70c2f7",
       "version_major": 2,
       "version_minor": 0
      },
      "text/plain": [
       "  0%|          | 0/270 [00:00<?, ?it/s]"
      ]
     },
     "metadata": {},
     "output_type": "display_data"
    },
    {
     "name": "stderr",
     "output_type": "stream",
     "text": [
      "/usr/project/xtmp/zg78/proto_rset/protopnet/visualization.py:222: UserWarning: Hash of prototype sample does not match hash of visualization sample for tensor([ 97,  89,  15,  11, 248, 115, 199, 115, 178, 151,  93,  14,  80, 194,\n",
      "        180,  62, 227,  31,  62,  27, 134, 166, 195, 243, 210, 151, 185, 137,\n",
      "        208,   3,  68,  13], dtype=torch.uint8), prototype 110.\n",
      "  warnings.warn(\n",
      "/usr/project/xtmp/zg78/proto_rset/protopnet/visualization.py:222: UserWarning: Hash of prototype sample does not match hash of visualization sample for tensor([110, 213, 134, 159, 148,  24, 102, 194,  88,  66,  54,  27, 153, 147,\n",
      "        142,  95, 111, 124, 218, 143, 103, 126, 114,  64, 102, 136, 247, 200,\n",
      "         94,  80, 232,  66], dtype=torch.uint8), prototype 346.\n",
      "  warnings.warn(\n"
     ]
    },
    {
     "data": {
      "text/plain": [
       "[(PosixPath('/usr/xtmp/zg78/proto_rset/rashomon_sets/rset_analysis/vis_ps9w130l_18_project_0.8552.pth/prototypes/proto_110_overlayheatmap.png'),\n",
       "  PosixPath('/usr/xtmp/zg78/proto_rset/rashomon_sets/rset_analysis/vis_ps9w130l_18_project_0.8552.pth/prototypes/proto_110_original.png'),\n",
       "  PosixPath('/usr/xtmp/zg78/proto_rset/rashomon_sets/rset_analysis/vis_ps9w130l_18_project_0.8552.pth/prototypes/proto_110_heatmap.png'),\n",
       "  PosixPath('/usr/xtmp/zg78/proto_rset/rashomon_sets/rset_analysis/vis_ps9w130l_18_project_0.8552.pth/prototypes/proto_110_proto_bbox.png')),\n",
       " (PosixPath('/usr/xtmp/zg78/proto_rset/rashomon_sets/rset_analysis/vis_ps9w130l_18_project_0.8552.pth/prototypes/proto_346_overlayheatmap.png'),\n",
       "  PosixPath('/usr/xtmp/zg78/proto_rset/rashomon_sets/rset_analysis/vis_ps9w130l_18_project_0.8552.pth/prototypes/proto_346_original.png'),\n",
       "  PosixPath('/usr/xtmp/zg78/proto_rset/rashomon_sets/rset_analysis/vis_ps9w130l_18_project_0.8552.pth/prototypes/proto_346_heatmap.png'),\n",
       "  PosixPath('/usr/xtmp/zg78/proto_rset/rashomon_sets/rset_analysis/vis_ps9w130l_18_project_0.8552.pth/prototypes/proto_346_proto_bbox.png')),\n",
       " (PosixPath('/usr/xtmp/zg78/proto_rset/rashomon_sets/rset_analysis/vis_ps9w130l_18_project_0.8552.pth/prototypes/proto_392_overlayheatmap.png'),\n",
       "  PosixPath('/usr/xtmp/zg78/proto_rset/rashomon_sets/rset_analysis/vis_ps9w130l_18_project_0.8552.pth/prototypes/proto_392_original.png'),\n",
       "  PosixPath('/usr/xtmp/zg78/proto_rset/rashomon_sets/rset_analysis/vis_ps9w130l_18_project_0.8552.pth/prototypes/proto_392_heatmap.png'),\n",
       "  PosixPath('/usr/xtmp/zg78/proto_rset/rashomon_sets/rset_analysis/vis_ps9w130l_18_project_0.8552.pth/prototypes/proto_392_proto_bbox.png'))]"
      ]
     },
     "execution_count": 13,
     "metadata": {},
     "output_type": "execute_result"
    }
   ],
   "source": [
    "rst = rset_factory.display_proto_based_on_coef(mode='topk', k=3)\n",
    "rst"
   ]
  },
  {
   "cell_type": "code",
   "execution_count": 14,
   "id": "5b097b6f",
   "metadata": {},
   "outputs": [
    {
     "data": {
      "application/vnd.jupyter.widget-view+json": {
       "model_id": "3e6b6b1f445d428082a70c9848dbef29",
       "version_major": 2,
       "version_minor": 0
      },
      "text/plain": [
       "  0%|          | 0/270 [00:00<?, ?it/s]"
      ]
     },
     "metadata": {},
     "output_type": "display_data"
    },
    {
     "data": {
      "text/plain": [
       "(PosixPath('/usr/xtmp/zg78/proto_rset/rashomon_sets/rset_analysis/vis_ps9w130l_18_project_0.8552.pth/prototypes/proto_346_overlayheatmap.png'),\n",
       " PosixPath('/usr/xtmp/zg78/proto_rset/rashomon_sets/rset_analysis/vis_ps9w130l_18_project_0.8552.pth/prototypes/proto_346_original.png'),\n",
       " PosixPath('/usr/xtmp/zg78/proto_rset/rashomon_sets/rset_analysis/vis_ps9w130l_18_project_0.8552.pth/prototypes/proto_346_heatmap.png'),\n",
       " PosixPath('/usr/xtmp/zg78/proto_rset/rashomon_sets/rset_analysis/vis_ps9w130l_18_project_0.8552.pth/prototypes/proto_346_proto_bbox.png'))"
      ]
     },
     "execution_count": 14,
     "metadata": {},
     "output_type": "execute_result"
    }
   ],
   "source": [
    "rst = rset_factory.display_proto_based_on_coef(mode='highest')\n",
    "rst"
   ]
  },
  {
   "cell_type": "code",
   "execution_count": null,
   "id": "83edaeee",
   "metadata": {},
   "outputs": [],
   "source": []
  }
 ],
 "metadata": {
  "kernelspec": {
   "display_name": "Python 3 (ipykernel)",
   "language": "python",
   "name": "python3"
  },
  "language_info": {
   "codemirror_mode": {
    "name": "ipython",
    "version": 3
   },
   "file_extension": ".py",
   "mimetype": "text/x-python",
   "name": "python",
   "nbconvert_exporter": "python",
   "pygments_lexer": "ipython3",
   "version": "3.8.19"
  }
 },
 "nbformat": 4,
 "nbformat_minor": 5
}
